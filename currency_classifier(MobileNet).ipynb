{
  "cells": [
    {
      "cell_type": "code",
      "execution_count": null,
      "metadata": {
        "id": "aAWzFBwEE2NG"
      },
      "outputs": [],
      "source": [
        "import numpy as np\n",
        "import tensorflow as tf\n",
        "from tensorflow import keras\n",
        "from tensorflow.keras.models import Sequential,load_model\n",
        "from tensorflow.keras.layers import Activation, Dense, Flatten, BatchNormalization, Conv2D,GlobalAveragePooling2D, MaxPool2D,Dropout\n",
        "from tensorflow.keras.optimizers import Adam\n",
        "from tensorflow.keras.models import Model\n",
        "from tensorflow.keras.metrics import categorical_crossentropy\n",
        "from tensorflow.keras.preprocessing.image import ImageDataGenerator\n",
        "from keras.callbacks import Callback, EarlyStopping, ModelCheckpoint\n",
        "from tensorflow.keras.preprocessing import image\n",
        "from sklearn.metrics import confusion_matrix\n",
        "from google.colab.patches import cv2_imshow\n",
        "from numpy.core.fromnumeric import size\n",
        "import cv2\n",
        "import itertools\n",
        "import os\n",
        "import shutil\n",
        "import random\n",
        "import glob as gb\n",
        "import matplotlib.pyplot as plt\n",
        "import warnings\n",
        "warnings.simplefilter(action='ignore', category=FutureWarning)\n",
        "%matplotlib inline"
      ]
    },
    {
      "cell_type": "code",
      "execution_count": null,
      "metadata": {
        "colab": {
          "base_uri": "https://localhost:8080/"
        },
        "id": "WrjIR4R-ogtC",
        "outputId": "a7ebdc0a-43f5-428e-94f1-aa0d3546e61e"
      },
      "outputs": [
        {
          "output_type": "stream",
          "name": "stdout",
          "text": [
            "Mounted at /content/drive\n"
          ]
        }
      ],
      "source": [
        "from google.colab import drive\n",
        "drive.mount('/content/drive')"
      ]
    },
    {
      "cell_type": "code",
      "execution_count": null,
      "metadata": {
        "id": "xVE35BW85uSQ"
      },
      "outputs": [],
      "source": [
        "def plot_confusion_matrix(cm, classes,\n",
        "                          normalize=False,\n",
        "                          title='Confusion matrix',\n",
        "                          cmap=plt.cm.Blues):\n",
        "    \"\"\"\n",
        "    This function prints and plots the confusion matrix.\n",
        "    Normalization can be applied by setting `normalize=True`.\n",
        "    \"\"\"\n",
        "    plt.imshow(cm, interpolation='nearest', cmap=cmap)\n",
        "    plt.title(title)\n",
        "    plt.colorbar()\n",
        "    tick_marks = np.arange(len(classes))\n",
        "    plt.xticks(tick_marks, classes, rotation=45)\n",
        "    plt.yticks(tick_marks, classes)\n",
        "\n",
        "    if normalize:\n",
        "        cm = cm.astype('float') / cm.sum(axis=1)[:, np.newaxis]\n",
        "        print(\"Normalized confusion matrix\")\n",
        "    else:\n",
        "        print('Confusion matrix, without normalization')\n",
        "\n",
        "    print(cm)\n",
        "\n",
        "    thresh = cm.max() / 2.\n",
        "    for i, j in itertools.product(range(cm.shape[0]), range(cm.shape[1])):\n",
        "        plt.text(j, i, cm[i, j],\n",
        "            horizontalalignment=\"center\",\n",
        "            color=\"white\" if cm[i, j] > thresh else \"black\")\n",
        "\n",
        "    plt.tight_layout()\n",
        "    plt.ylabel('True label')\n",
        "    plt.xlabel('Predicted label')"
      ]
    },
    {
      "cell_type": "code",
      "execution_count": null,
      "metadata": {
        "id": "rZthnIDLRH7x"
      },
      "outputs": [],
      "source": [
        "testpath='/content/drive/MyDrive/Yemeni_coins2/test1'\n",
        "trainpath='/content/drive/MyDrive/Yemeni_coins2/train1'\n",
        "validpath='/content/drive/MyDrive/Yemeni_coins2/valid1'"
      ]
    },
    {
      "cell_type": "code",
      "execution_count": null,
      "metadata": {
        "colab": {
          "base_uri": "https://localhost:8080/"
        },
        "id": "9EI5NSAdSGVz",
        "outputId": "c0107f60-9d63-4ba7-97b5-ef1e8754c87e"
      },
      "outputs": [
        {
          "output_type": "stream",
          "name": "stdout",
          "text": [
            "Found 6036 images belonging to 6 classes.\n",
            "Found 2009 images belonging to 6 classes.\n",
            "Found 2016 images belonging to 6 classes.\n"
          ]
        }
      ],
      "source": [
        "train_batches = ImageDataGenerator(preprocessing_function=tf.keras.applications.mobilenet.preprocess_input).flow_from_directory(\n",
        "    directory=trainpath, target_size=(224,224), batch_size=10)\n",
        "valid_batches = ImageDataGenerator(preprocessing_function=tf.keras.applications.mobilenet.preprocess_input).flow_from_directory(\n",
        "    directory=validpath, target_size=(224,224), batch_size=10 )\n",
        "test_batches = ImageDataGenerator(preprocessing_function=tf.keras.applications.mobilenet.preprocess_input).flow_from_directory(\n",
        "    directory=testpath, target_size=(224,224), batch_size=10, shuffle=False)"
      ]
    },
    {
      "cell_type": "code",
      "execution_count": null,
      "metadata": {
        "colab": {
          "base_uri": "https://localhost:8080/"
        },
        "id": "0Lre_uVNE8A8",
        "outputId": "649ca865-38e5-47cd-8e67-5a80e9354745"
      },
      "outputs": [
        {
          "output_type": "stream",
          "name": "stdout",
          "text": [
            "Downloading data from https://storage.googleapis.com/tensorflow/keras-applications/mobilenet/mobilenet_1_0_224_tf.h5\n",
            "17227776/17225924 [==============================] - 1s 0us/step\n",
            "17235968/17225924 [==============================] - 1s 0us/step\n"
          ]
        }
      ],
      "source": [
        "mobile=tf.keras.applications.mobilenet.MobileNet()\n",
        "#mobile.summary()"
      ]
    },
    {
      "cell_type": "code",
      "execution_count": null,
      "metadata": {
        "id": "VtKTk-JNT9zJ"
      },
      "outputs": [],
      "source": [
        "model_mobile= Sequential()\n",
        "for layer in mobile.layers[:-1]:\n",
        "    model_mobile.add(layer)\n",
        "\n"
      ]
    },
    {
      "cell_type": "code",
      "execution_count": null,
      "metadata": {
        "colab": {
          "base_uri": "https://localhost:8080/"
        },
        "id": "pBQH41OHUa0P",
        "outputId": "aa43730a-240c-43b5-a545-a798a42dbffe"
      },
      "outputs": [
        {
          "output_type": "execute_result",
          "data": {
            "text/plain": [
              "89"
            ]
          },
          "metadata": {},
          "execution_count": 8
        }
      ],
      "source": [
        "len(model_mobile.layers)"
      ]
    },
    {
      "cell_type": "code",
      "execution_count": null,
      "metadata": {
        "colab": {
          "base_uri": "https://localhost:8080/"
        },
        "id": "Gh4ERBqSVBgw",
        "outputId": "f1aa3988-039d-4e22-a246-0f2e1bace7f8"
      },
      "outputs": [
        {
          "output_type": "stream",
          "name": "stdout",
          "text": [
            "Model: \"sequential\"\n",
            "_________________________________________________________________\n",
            " Layer (type)                Output Shape              Param #   \n",
            "=================================================================\n",
            " conv1 (Conv2D)              (None, 112, 112, 32)      864       \n",
            "                                                                 \n",
            " conv1_bn (BatchNormalizatio  (None, 112, 112, 32)     128       \n",
            " n)                                                              \n",
            "                                                                 \n",
            " conv1_relu (ReLU)           (None, 112, 112, 32)      0         \n",
            "                                                                 \n",
            " conv_dw_1 (DepthwiseConv2D)  (None, 112, 112, 32)     288       \n",
            "                                                                 \n",
            " conv_dw_1_bn (BatchNormaliz  (None, 112, 112, 32)     128       \n",
            " ation)                                                          \n",
            "                                                                 \n",
            " conv_dw_1_relu (ReLU)       (None, 112, 112, 32)      0         \n",
            "                                                                 \n",
            " conv_pw_1 (Conv2D)          (None, 112, 112, 64)      2048      \n",
            "                                                                 \n",
            " conv_pw_1_bn (BatchNormaliz  (None, 112, 112, 64)     256       \n",
            " ation)                                                          \n",
            "                                                                 \n",
            " conv_pw_1_relu (ReLU)       (None, 112, 112, 64)      0         \n",
            "                                                                 \n",
            " conv_pad_2 (ZeroPadding2D)  (None, 113, 113, 64)      0         \n",
            "                                                                 \n",
            " conv_dw_2 (DepthwiseConv2D)  (None, 56, 56, 64)       576       \n",
            "                                                                 \n",
            " conv_dw_2_bn (BatchNormaliz  (None, 56, 56, 64)       256       \n",
            " ation)                                                          \n",
            "                                                                 \n",
            " conv_dw_2_relu (ReLU)       (None, 56, 56, 64)        0         \n",
            "                                                                 \n",
            " conv_pw_2 (Conv2D)          (None, 56, 56, 128)       8192      \n",
            "                                                                 \n",
            " conv_pw_2_bn (BatchNormaliz  (None, 56, 56, 128)      512       \n",
            " ation)                                                          \n",
            "                                                                 \n",
            " conv_pw_2_relu (ReLU)       (None, 56, 56, 128)       0         \n",
            "                                                                 \n",
            " conv_dw_3 (DepthwiseConv2D)  (None, 56, 56, 128)      1152      \n",
            "                                                                 \n",
            " conv_dw_3_bn (BatchNormaliz  (None, 56, 56, 128)      512       \n",
            " ation)                                                          \n",
            "                                                                 \n",
            " conv_dw_3_relu (ReLU)       (None, 56, 56, 128)       0         \n",
            "                                                                 \n",
            " conv_pw_3 (Conv2D)          (None, 56, 56, 128)       16384     \n",
            "                                                                 \n",
            " conv_pw_3_bn (BatchNormaliz  (None, 56, 56, 128)      512       \n",
            " ation)                                                          \n",
            "                                                                 \n",
            " conv_pw_3_relu (ReLU)       (None, 56, 56, 128)       0         \n",
            "                                                                 \n",
            " conv_pad_4 (ZeroPadding2D)  (None, 57, 57, 128)       0         \n",
            "                                                                 \n",
            " conv_dw_4 (DepthwiseConv2D)  (None, 28, 28, 128)      1152      \n",
            "                                                                 \n",
            " conv_dw_4_bn (BatchNormaliz  (None, 28, 28, 128)      512       \n",
            " ation)                                                          \n",
            "                                                                 \n",
            " conv_dw_4_relu (ReLU)       (None, 28, 28, 128)       0         \n",
            "                                                                 \n",
            " conv_pw_4 (Conv2D)          (None, 28, 28, 256)       32768     \n",
            "                                                                 \n",
            " conv_pw_4_bn (BatchNormaliz  (None, 28, 28, 256)      1024      \n",
            " ation)                                                          \n",
            "                                                                 \n",
            " conv_pw_4_relu (ReLU)       (None, 28, 28, 256)       0         \n",
            "                                                                 \n",
            " conv_dw_5 (DepthwiseConv2D)  (None, 28, 28, 256)      2304      \n",
            "                                                                 \n",
            " conv_dw_5_bn (BatchNormaliz  (None, 28, 28, 256)      1024      \n",
            " ation)                                                          \n",
            "                                                                 \n",
            " conv_dw_5_relu (ReLU)       (None, 28, 28, 256)       0         \n",
            "                                                                 \n",
            " conv_pw_5 (Conv2D)          (None, 28, 28, 256)       65536     \n",
            "                                                                 \n",
            " conv_pw_5_bn (BatchNormaliz  (None, 28, 28, 256)      1024      \n",
            " ation)                                                          \n",
            "                                                                 \n",
            " conv_pw_5_relu (ReLU)       (None, 28, 28, 256)       0         \n",
            "                                                                 \n",
            " conv_pad_6 (ZeroPadding2D)  (None, 29, 29, 256)       0         \n",
            "                                                                 \n",
            " conv_dw_6 (DepthwiseConv2D)  (None, 14, 14, 256)      2304      \n",
            "                                                                 \n",
            " conv_dw_6_bn (BatchNormaliz  (None, 14, 14, 256)      1024      \n",
            " ation)                                                          \n",
            "                                                                 \n",
            " conv_dw_6_relu (ReLU)       (None, 14, 14, 256)       0         \n",
            "                                                                 \n",
            " conv_pw_6 (Conv2D)          (None, 14, 14, 512)       131072    \n",
            "                                                                 \n",
            " conv_pw_6_bn (BatchNormaliz  (None, 14, 14, 512)      2048      \n",
            " ation)                                                          \n",
            "                                                                 \n",
            " conv_pw_6_relu (ReLU)       (None, 14, 14, 512)       0         \n",
            "                                                                 \n",
            " conv_dw_7 (DepthwiseConv2D)  (None, 14, 14, 512)      4608      \n",
            "                                                                 \n",
            " conv_dw_7_bn (BatchNormaliz  (None, 14, 14, 512)      2048      \n",
            " ation)                                                          \n",
            "                                                                 \n",
            " conv_dw_7_relu (ReLU)       (None, 14, 14, 512)       0         \n",
            "                                                                 \n",
            " conv_pw_7 (Conv2D)          (None, 14, 14, 512)       262144    \n",
            "                                                                 \n",
            " conv_pw_7_bn (BatchNormaliz  (None, 14, 14, 512)      2048      \n",
            " ation)                                                          \n",
            "                                                                 \n",
            " conv_pw_7_relu (ReLU)       (None, 14, 14, 512)       0         \n",
            "                                                                 \n",
            " conv_dw_8 (DepthwiseConv2D)  (None, 14, 14, 512)      4608      \n",
            "                                                                 \n",
            " conv_dw_8_bn (BatchNormaliz  (None, 14, 14, 512)      2048      \n",
            " ation)                                                          \n",
            "                                                                 \n",
            " conv_dw_8_relu (ReLU)       (None, 14, 14, 512)       0         \n",
            "                                                                 \n",
            " conv_pw_8 (Conv2D)          (None, 14, 14, 512)       262144    \n",
            "                                                                 \n",
            " conv_pw_8_bn (BatchNormaliz  (None, 14, 14, 512)      2048      \n",
            " ation)                                                          \n",
            "                                                                 \n",
            " conv_pw_8_relu (ReLU)       (None, 14, 14, 512)       0         \n",
            "                                                                 \n",
            " conv_dw_9 (DepthwiseConv2D)  (None, 14, 14, 512)      4608      \n",
            "                                                                 \n",
            " conv_dw_9_bn (BatchNormaliz  (None, 14, 14, 512)      2048      \n",
            " ation)                                                          \n",
            "                                                                 \n",
            " conv_dw_9_relu (ReLU)       (None, 14, 14, 512)       0         \n",
            "                                                                 \n",
            " conv_pw_9 (Conv2D)          (None, 14, 14, 512)       262144    \n",
            "                                                                 \n",
            " conv_pw_9_bn (BatchNormaliz  (None, 14, 14, 512)      2048      \n",
            " ation)                                                          \n",
            "                                                                 \n",
            " conv_pw_9_relu (ReLU)       (None, 14, 14, 512)       0         \n",
            "                                                                 \n",
            " conv_dw_10 (DepthwiseConv2D  (None, 14, 14, 512)      4608      \n",
            " )                                                               \n",
            "                                                                 \n",
            " conv_dw_10_bn (BatchNormali  (None, 14, 14, 512)      2048      \n",
            " zation)                                                         \n",
            "                                                                 \n",
            " conv_dw_10_relu (ReLU)      (None, 14, 14, 512)       0         \n",
            "                                                                 \n",
            " conv_pw_10 (Conv2D)         (None, 14, 14, 512)       262144    \n",
            "                                                                 \n",
            " conv_pw_10_bn (BatchNormali  (None, 14, 14, 512)      2048      \n",
            " zation)                                                         \n",
            "                                                                 \n",
            " conv_pw_10_relu (ReLU)      (None, 14, 14, 512)       0         \n",
            "                                                                 \n",
            " conv_dw_11 (DepthwiseConv2D  (None, 14, 14, 512)      4608      \n",
            " )                                                               \n",
            "                                                                 \n",
            " conv_dw_11_bn (BatchNormali  (None, 14, 14, 512)      2048      \n",
            " zation)                                                         \n",
            "                                                                 \n",
            " conv_dw_11_relu (ReLU)      (None, 14, 14, 512)       0         \n",
            "                                                                 \n",
            " conv_pw_11 (Conv2D)         (None, 14, 14, 512)       262144    \n",
            "                                                                 \n",
            " conv_pw_11_bn (BatchNormali  (None, 14, 14, 512)      2048      \n",
            " zation)                                                         \n",
            "                                                                 \n",
            " conv_pw_11_relu (ReLU)      (None, 14, 14, 512)       0         \n",
            "                                                                 \n",
            " conv_pad_12 (ZeroPadding2D)  (None, 15, 15, 512)      0         \n",
            "                                                                 \n",
            " conv_dw_12 (DepthwiseConv2D  (None, 7, 7, 512)        4608      \n",
            " )                                                               \n",
            "                                                                 \n",
            " conv_dw_12_bn (BatchNormali  (None, 7, 7, 512)        2048      \n",
            " zation)                                                         \n",
            "                                                                 \n",
            " conv_dw_12_relu (ReLU)      (None, 7, 7, 512)         0         \n",
            "                                                                 \n",
            " conv_pw_12 (Conv2D)         (None, 7, 7, 1024)        524288    \n",
            "                                                                 \n",
            " conv_pw_12_bn (BatchNormali  (None, 7, 7, 1024)       4096      \n",
            " zation)                                                         \n",
            "                                                                 \n",
            " conv_pw_12_relu (ReLU)      (None, 7, 7, 1024)        0         \n",
            "                                                                 \n",
            " conv_dw_13 (DepthwiseConv2D  (None, 7, 7, 1024)       9216      \n",
            " )                                                               \n",
            "                                                                 \n",
            " conv_dw_13_bn (BatchNormali  (None, 7, 7, 1024)       4096      \n",
            " zation)                                                         \n",
            "                                                                 \n",
            " conv_dw_13_relu (ReLU)      (None, 7, 7, 1024)        0         \n",
            "                                                                 \n",
            " conv_pw_13 (Conv2D)         (None, 7, 7, 1024)        1048576   \n",
            "                                                                 \n",
            " conv_pw_13_bn (BatchNormali  (None, 7, 7, 1024)       4096      \n",
            " zation)                                                         \n",
            "                                                                 \n",
            " conv_pw_13_relu (ReLU)      (None, 7, 7, 1024)        0         \n",
            "                                                                 \n",
            " global_average_pooling2d (G  (None, 1, 1, 1024)       0         \n",
            " lobalAveragePooling2D)                                          \n",
            "                                                                 \n",
            " dropout (Dropout)           (None, 1, 1, 1024)        0         \n",
            "                                                                 \n",
            " conv_preds (Conv2D)         (None, 1, 1, 1000)        1025000   \n",
            "                                                                 \n",
            " reshape_2 (Reshape)         (None, 1000)              0         \n",
            "                                                                 \n",
            " dense (Dense)               (None, 6)                 6006      \n",
            "                                                                 \n",
            "=================================================================\n",
            "Total params: 4,259,870\n",
            "Trainable params: 4,237,982\n",
            "Non-trainable params: 21,888\n",
            "_________________________________________________________________\n"
          ]
        }
      ],
      "source": [
        "for layer in model_mobile.layers:\n",
        "    layer.trainable = True\n",
        "model_mobile.add(Dense(units=6, activation='softmax'))\n",
        "model_mobile.summary()"
      ]
    },
    {
      "cell_type": "code",
      "execution_count": null,
      "metadata": {
        "id": "R8p6kxDeWSA4"
      },
      "outputs": [],
      "source": [
        "model_mobile.compile(optimizer=Adam(learning_rate=0.0001),loss='categorical_crossentropy',metrics=['accuracy'])\n"
      ]
    },
    {
      "cell_type": "code",
      "execution_count": null,
      "metadata": {
        "colab": {
          "base_uri": "https://localhost:8080/"
        },
        "id": "TLEs0wS7WR2s",
        "outputId": "792e7663-ab4e-4917-c1f3-16d20d3a69d8"
      },
      "outputs": [
        {
          "output_type": "stream",
          "name": "stdout",
          "text": [
            "Epoch 1/20\n",
            "604/604 [==============================] - 261s 433ms/step - loss: 0.0431 - accuracy: 0.9844 - val_loss: 0.1177 - val_accuracy: 0.9691\n",
            "Epoch 2/20\n",
            "604/604 [==============================] - 122s 202ms/step - loss: 0.0981 - accuracy: 0.9732 - val_loss: 0.2163 - val_accuracy: 0.9587\n",
            "Epoch 3/20\n",
            "604/604 [==============================] - 122s 201ms/step - loss: 0.1094 - accuracy: 0.9732 - val_loss: 0.1197 - val_accuracy: 0.9706\n",
            "Epoch 4/20\n",
            "604/604 [==============================] - 122s 203ms/step - loss: 0.0666 - accuracy: 0.9814 - val_loss: 0.0668 - val_accuracy: 0.9796\n",
            "Epoch 5/20\n",
            "604/604 [==============================] - 122s 202ms/step - loss: 0.0525 - accuracy: 0.9869 - val_loss: 0.2124 - val_accuracy: 0.9602\n",
            "Epoch 6/20\n",
            "604/604 [==============================] - 121s 201ms/step - loss: 0.0567 - accuracy: 0.9881 - val_loss: 0.1541 - val_accuracy: 0.9657\n",
            "Epoch 7/20\n",
            "604/604 [==============================] - 121s 201ms/step - loss: 0.0536 - accuracy: 0.9861 - val_loss: 0.1970 - val_accuracy: 0.9517\n",
            "Epoch 8/20\n",
            "604/604 [==============================] - 121s 200ms/step - loss: 0.0631 - accuracy: 0.9846 - val_loss: 0.1094 - val_accuracy: 0.9796\n",
            "Epoch 9/20\n",
            "604/604 [==============================] - 120s 199ms/step - loss: 0.0346 - accuracy: 0.9912 - val_loss: 0.0545 - val_accuracy: 0.9900\n",
            "Epoch 10/20\n",
            "604/604 [==============================] - 119s 197ms/step - loss: 0.0284 - accuracy: 0.9919 - val_loss: 0.0858 - val_accuracy: 0.9836\n",
            "Epoch 11/20\n",
            "604/604 [==============================] - 120s 198ms/step - loss: 0.0283 - accuracy: 0.9917 - val_loss: 0.0650 - val_accuracy: 0.9826\n",
            "Epoch 12/20\n",
            "604/604 [==============================] - 119s 198ms/step - loss: 0.0373 - accuracy: 0.9891 - val_loss: 0.0530 - val_accuracy: 0.9851\n",
            "Epoch 13/20\n",
            "604/604 [==============================] - 119s 197ms/step - loss: 0.0131 - accuracy: 0.9959 - val_loss: 0.0408 - val_accuracy: 0.9886\n",
            "Epoch 14/20\n",
            "604/604 [==============================] - 120s 198ms/step - loss: 0.0271 - accuracy: 0.9929 - val_loss: 0.0391 - val_accuracy: 0.9886\n",
            "Epoch 15/20\n",
            "604/604 [==============================] - 120s 199ms/step - loss: 0.0221 - accuracy: 0.9935 - val_loss: 0.0676 - val_accuracy: 0.9841\n",
            "Epoch 16/20\n",
            "604/604 [==============================] - 119s 197ms/step - loss: 0.0203 - accuracy: 0.9942 - val_loss: 0.0370 - val_accuracy: 0.9900\n",
            "Epoch 17/20\n",
            "604/604 [==============================] - 119s 198ms/step - loss: 0.0211 - accuracy: 0.9950 - val_loss: 0.1012 - val_accuracy: 0.9776\n",
            "Epoch 18/20\n",
            "604/604 [==============================] - 119s 197ms/step - loss: 0.0285 - accuracy: 0.9927 - val_loss: 0.0472 - val_accuracy: 0.9871\n",
            "Epoch 19/20\n",
            "604/604 [==============================] - 119s 197ms/step - loss: 0.0118 - accuracy: 0.9965 - val_loss: 0.0513 - val_accuracy: 0.9861\n",
            "Epoch 20/20\n",
            "604/604 [==============================] - 119s 197ms/step - loss: 0.0138 - accuracy: 0.9965 - val_loss: 0.0550 - val_accuracy: 0.9806\n"
          ]
        }
      ],
      "source": [
        "history=model_mobile.fit(x=train_batches,\n",
        "          steps_per_epoch=len(train_batches),\n",
        "          validation_data=valid_batches,\n",
        "          validation_steps=len(valid_batches),\n",
        "          epochs=20,\n",
        "          verbose=1\n",
        ")"
      ]
    },
    {
      "cell_type": "code",
      "execution_count": null,
      "metadata": {
        "colab": {
          "base_uri": "https://localhost:8080/"
        },
        "id": "adK50FQQWRiz",
        "outputId": "6ec7146f-24e3-464c-c498-d53b69af3c80"
      },
      "outputs": [
        {
          "output_type": "stream",
          "name": "stdout",
          "text": [
            "202/202 [==============================] - 828s 4s/step - loss: 0.0811 - accuracy: 0.9767\n",
            "loss is  8.109357208013535\n",
            "Accuracy is  97.66865372657776\n"
          ]
        }
      ],
      "source": [
        "x,y=model_mobile.evaluate(test_batches)\n",
        "print('loss is ',x*100)\n",
        "print('Accuracy is ',y*100)"
      ]
    },
    {
      "cell_type": "markdown",
      "metadata": {
        "id": "QtsuzVJJs3NY"
      },
      "source": [
        "Visualizing the Loss and Accuracy"
      ]
    },
    {
      "cell_type": "code",
      "source": [
        "#plot to visualize the loss and accuracy against number of epochs\n",
        "plt.figure(figsize=(18,8))\n",
        "plt.suptitle('Loss and Accuracy Plots', fontsize=18)\n",
        "plt.subplot(1,2,1)\n",
        "plt.plot(history.history['loss'], label='Training Loss')\n",
        "plt.plot(history.history['val_loss'], label='Validation Loss')\n",
        "plt.legend()\n",
        "plt.xlabel('Number of epochs', fontsize=15)\n",
        "plt.ylabel('Loss', fontsize=15)\n",
        "plt.subplot(1,2,2)\n",
        "plt.plot(history.history['accuracy'], label='Train Accuracy')\n",
        "plt.plot(history.history['val_accuracy'], label='Validation Accuracy')\n",
        "plt.legend()\n",
        "plt.xlabel('Number of epochs', fontsize=14)\n",
        "plt.ylabel('Accuracy', fontsize=14)\n",
        "plt.show()"
      ],
      "metadata": {
        "colab": {
          "base_uri": "https://localhost:8080/",
          "height": 402
        },
        "id": "kZiMZ8I8r9Kt",
        "outputId": "f86ad5eb-20ac-49fc-ae62-37eff6541c8e"
      },
      "execution_count": null,
      "outputs": [
        {
          "output_type": "display_data",
          "data": {
            "text/plain": [
              "<Figure size 1296x576 with 2 Axes>"
            ],
            "image/png": "[encoded data removed]"
          },
          "metadata": {
            "needs_background": "light"
          }
        }
      ]
    },
    {
      "cell_type": "code",
      "execution_count": null,
      "metadata": {
        "id": "P9T5-7qF4Jus",
        "colab": {
          "base_uri": "https://localhost:8080/"
        },
        "outputId": "dfe45360-859d-45d5-f5b9-eb5c33f44a69"
      },
      "outputs": [
        {
          "output_type": "stream",
          "name": "stdout",
          "text": [
            "save\n"
          ]
        }
      ],
      "source": [
        "model_mobile.save('/content/drive/MyDrive/Model/mobil_m5.h5')\n",
        "np.save('/content/drive/MyDrive/Model/history_m5',history.history)\n",
        "print('save')"
      ]
    },
    {
      "cell_type": "code",
      "source": [
        "history=np.load('/content/drive/MyDrive/Model/history_m5.npy',allow_pickle=True).item()\n",
        "model=load_model('/content/drive/MyDrive/Model/mobil_m5.h5')\n"
      ],
      "metadata": {
        "id": "5C9L9Df0bf-T"
      },
      "execution_count": null,
      "outputs": []
    },
    {
      "cell_type": "code",
      "execution_count": null,
      "metadata": {
        "id": "kTEwM9xD4l8h"
      },
      "outputs": [],
      "source": [
        "predictions = model_mobile.predict(x=test_batches, steps=len(test_batches), verbose=0)"
      ]
    },
    {
      "cell_type": "code",
      "source": [
        "test_batches.class_indices"
      ],
      "metadata": {
        "colab": {
          "base_uri": "https://localhost:8080/"
        },
        "id": "X4VtHhlnuwye",
        "outputId": "083719f9-1e87-436d-e63c-49cdbfad3620"
      },
      "execution_count": null,
      "outputs": [
        {
          "output_type": "execute_result",
          "data": {
            "text/plain": [
              "array([[3.3980905e-14, 2.2427742e-13, 9.7403882e-12, 1.3146408e-15,\n",
              "        1.0000000e+00, 2.3603222e-13]], dtype=float32)"
            ]
          },
          "metadata": {},
          "execution_count": 34
        }
      ]
    },
    {
      "cell_type": "code",
      "source": [
        "cm = confusion_matrix(y_true=test_batches.classes, y_pred=predictions.argmax(axis=1))"
      ],
      "metadata": {
        "id": "GEtQWtrSsvUS"
      },
      "execution_count": null,
      "outputs": []
    },
    {
      "cell_type": "code",
      "source": [
        "cm_plot_labels = ['100','1000','200','250','50','500']"
      ],
      "metadata": {
        "id": "nO6kqHzC1E0k"
      },
      "execution_count": null,
      "outputs": []
    },
    {
      "cell_type": "code",
      "source": [
        "cm_plot_labels = ['100','1000','200','250','50','500']\n",
        "plot_confusion_matrix(cm=cm, classes=cm_plot_labels, title='Confusion Matrix')"
      ],
      "metadata": {
        "colab": {
          "base_uri": "https://localhost:8080/",
          "height": 433
        },
        "id": "ffQSG8qrtEvV",
        "outputId": "8821f556-abb9-4337-d988-9986c618f130"
      },
      "execution_count": null,
      "outputs": [
        {
          "output_type": "stream",
          "name": "stdout",
          "text": [
            "Confusion matrix, without normalization\n",
            "[[321   1   0   3   9   2]\n",
            " [  0 326   1   0   2   7]\n",
            " [  0   0 335   0   0   1]\n",
            " [  0   0   0 329   5   2]\n",
            " [  0   1   0   1 334   0]\n",
            " [  0   0   0   9   3 324]]\n"
          ]
        },
        {
          "output_type": "display_data",
          "data": {
            "text/plain": [
              "<Figure size 432x288 with 2 Axes>"
            ],
            "image/png": "[encoded data removed]"
          },
          "metadata": {
            "needs_background": "light"
          }
        }
      ]
    },
    {
      "cell_type": "code",
      "source": [
        "def prepare_image(img_path):\n",
        "    img = image.load_img(img_path, target_size=(224, 224))\n",
        "    img_array = image.img_to_array(img)\n",
        "    img_array_expanded_dims = np.expand_dims(img_array, axis=0)\n",
        "    return tf.keras.applications.mobilenet.preprocess_input(img_array_expanded_dims)"
      ],
      "metadata": {
        "id": "S4IHGKgItJLV"
      },
      "execution_count": null,
      "outputs": []
    },
    {
      "cell_type": "code",
      "execution_count": null,
      "metadata": {
        "id": "lV-WnQnk5YpT",
        "colab": {
          "base_uri": "https://localhost:8080/"
        },
        "outputId": "5031be72-ffee-493c-edb6-a6f83f0cfac4"
      },
      "outputs": [
        {
          "output_type": "execute_result",
          "data": {
            "text/plain": [
              "93"
            ]
          },
          "metadata": {},
          "execution_count": 6
        }
      ],
      "source": [
        "os.chdir('/content/drive/MyDrive/Yemeni_coins2/newtest')\n",
        "files=gb.glob('*')\n",
        "len(files)"
      ]
    },
    {
      "cell_type": "code",
      "execution_count": null,
      "metadata": {
        "id": "qtIsLWSb5YfE",
        "colab": {
          "base_uri": "https://localhost:8080/"
        },
        "outputId": "e323efd0-0bb7-4c46-fd16-c2ab5cfae2e6"
      },
      "outputs": [
        {
          "output_type": "stream",
          "name": "stdout",
          "text": [
            "50_55 (1).jpg---100------- 7\n",
            "100_2.jpg---250------- 25\n",
            "200_1 (1).jpg---500------- 26\n",
            "200_1 (7).jpg---50------- 28\n",
            "1000_5 ‫(227284727)‬ ‫‬.jpeg---50------- 87\n",
            "the error is 5 from 93 images\n"
          ]
        }
      ],
      "source": [
        "in_data=[]\n",
        "os.chdir('/content/drive/MyDrive/Yemeni_coins2/newtest')\n",
        "files=gb.glob('*')\n",
        "for c in files:\n",
        "  pre_imge=prepare_image(c)\n",
        "  in_data.append(pre_imge)\n",
        "in_data=np.array(in_data)\n",
        "\n",
        "pre_data=[]\n",
        "for c in in_data:\n",
        "  predictions =model.predict(c)\n",
        "  pre_data.append(np.argmax(predictions))\n",
        "pre_data=np.array(pre_data)\n",
        "\n",
        "i=0\n",
        "count=0\n",
        "for c in files:\n",
        "  if cm_plot_labels[pre_data[i]]!=c.split('_')[0]:\n",
        "    print(f'{c}---{cm_plot_labels[pre_data[i]]}------- {i}')\n",
        "    count+=1\n",
        "  i+=1\n",
        "print(f'the error is {count} from {len(files)} images')\n"
      ]
    }
  ],
  "metadata": {
    "colab": {
      "provenance": []
    },
    "kernelspec": {
      "display_name": "Python 3",
      "name": "python3"
    },
    "language_info": {
      "name": "python"
    }
  },
  "nbformat": 4,
  "nbformat_minor": 0
}